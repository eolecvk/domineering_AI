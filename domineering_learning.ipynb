{
 "cells": [
  {
   "cell_type": "code",
   "execution_count": 10,
   "metadata": {
    "collapsed": true
   },
   "outputs": [],
   "source": [
    "import numpy as np"
   ]
  },
  {
   "cell_type": "code",
   "execution_count": 33,
   "metadata": {
    "collapsed": true
   },
   "outputs": [],
   "source": [
    "def load_data(fpath):\n",
    "    \"\"\"\n",
    "    Load input csv to np.array\n",
    "    \"\"\"\n",
    "    return np.loadtxt(fpath, delimiter=',', dtype=np.int32)\n",
    "\n",
    "\n",
    "def decode_input(data):\n",
    "    \"\"\"\n",
    "    input: np.array with shape [:, 256]\n",
    "    output:\n",
    "        board         , np.array with shape (:, 8, 8)\n",
    "        board_flipped , np.array with shape (:, 8, 8)\n",
    "        player_plane  , np.array with shape (:, 8, 8) \n",
    "        target_move   , np.array with shape (:, 8, 8)\n",
    "        \n",
    "    \"\"\"\n",
    "    board = data.T[:64].T.reshape((len(data), 8, 8))\n",
    "    board_flipped = data.T[64:128].T.reshape((len(data), 8, 8))\n",
    "    player_plane = data.T[-128:-64].T.reshape((len(data), 8, 8))\n",
    "    target_move = data.T[-64:].T.reshape((len(data), 8, 8))\n",
    "    return board, board_flipped, player_plane, target_move\n",
    "\n",
    "\n",
    "def encode_input(board, board_flipped, player_plane, target_move):\n",
    "    \"\"\"\n",
    "    inputs:\n",
    "        board         , np.array with shape (:, 8, 8)\n",
    "        board_flipped , np.array with shape (:, 8, 8)\n",
    "        player_plane  , np.array with shape (:, 8, 8)\n",
    "        target_move   , np.array with shape (:, 8, 8)\n",
    "    output:\n",
    "        np.array with shape (:, 256)\n",
    "    \"\"\"\n",
    "    record = []\n",
    "    for board in (board, board_flipped, player_plane, target_move):\n",
    "        board = board.flatten()\n",
    "        record.extend(board)\n",
    "    return record\n",
    "\n",
    "\n",
    "def get_p(player_plane):\n",
    "    \"\"\"\n",
    "    returns: True if row player\n",
    "             False if col player\n",
    "    \"\"\"\n",
    "    return player_plane[0][0] == 1\n",
    "        \n",
    "\n",
    "def get_move_plane_full(move_plane_short, player_plane):\n",
    "    \"\"\"\n",
    "    Made to make symmetries work easier\n",
    "    NB: 0 is row player and 1 is column player\n",
    "    inputs: \n",
    "        move_plane_short\n",
    "        [ [1, 0, 0],\n",
    "          [0, 0, 0] ]\n",
    "        player_plane\n",
    "        [ [1, 1, 1],\n",
    "          [1, 1, 1] ]\n",
    "        \n",
    "    output :\n",
    "        move_plane_full\n",
    "        [ [1, 1, 0],\n",
    "          [0, 0, 0] ]\n",
    "    \"\"\"\n",
    "    is_row_player = get_p(player_plane)\n",
    "    move_plane_full = move_plane_short.copy()\n",
    "    \n",
    "    for i in range(len(move_plane_short)):\n",
    "        for j in range(len(move_plane_short.T)):\n",
    "            if move_plane_short[i][j] == 1:\n",
    "                if is_row_player:\n",
    "                    move_plane_full[i][j+1] = 1\n",
    "                else:\n",
    "                    move_plane_full[i+1][j] = 1\n",
    "                return move_plane_full    \n",
    "    return\n",
    "\n",
    "\n",
    "\n",
    "def get_move_plane_short(move_plane_full):\n",
    "    \"\"\"\n",
    "    made to make symmetries work easier\n",
    "    inputs: \n",
    "        move_plane_full\n",
    "        [ [1, 1, 0],\n",
    "          [0, 0, 0] ]\n",
    "    output:\n",
    "        move_plane_short\n",
    "        [ [1, 0, 0],\n",
    "          [0, 0, 0] ]\n",
    "\n",
    "    \"\"\"\n",
    "    move_full_flat = np.concatenate(move_plane_full).ravel()\n",
    "    \n",
    "    keep = True\n",
    "    for i in range(len(move_full_flat)):\n",
    "        if move_full_flat[i] and keep:\n",
    "            keep = False\n",
    "        elif move_full_flat[i]:\n",
    "            move_plane_full_new = move_full_flat.copy()\n",
    "            move_plane_full_new[i] = 0\n",
    "            return move_plane_full_new\n",
    "    return "
   ]
  },
  {
   "cell_type": "code",
   "execution_count": 35,
   "metadata": {
    "collapsed": false
   },
   "outputs": [],
   "source": [
    "def symmetrics(board):\n",
    "    \"\"\"\n",
    "    returns 4 symmetric versions of input board\n",
    "    input, np.array with shape (8, 8)\n",
    "    output 4*[np.array with shape (8, 8)]\n",
    "    \"\"\"\n",
    "    syms = [\n",
    "        board,\n",
    "        np.rot90(board, k=2),\n",
    "        np.flipud(board),\n",
    "        np.fliplr(board) ]\n",
    "    return syms\n",
    "\n",
    "\n",
    "def rotate_symmetrics(board):\n",
    "    \"\"\"\n",
    "    returns 4 symmetric versions of 90rotated input board\n",
    "    input, np.array with shape (8, 8)\n",
    "    output 4*[np.array with shape (8, 8)]\n",
    "    \"\"\"\n",
    "    board = np.rot90(board, k=1)\n",
    "    return symmetrics(board)\n",
    "\n",
    "\n",
    "def flip_board(board):\n",
    "    \"\"\"\n",
    "    flips 1s to 0s and vice-versa in np.array\n",
    "    \"\"\"\n",
    "    return (~board.astype('bool_')).astype('int32')"
   ]
  },
  {
   "cell_type": "code",
   "execution_count": 42,
   "metadata": {
    "collapsed": false
   },
   "outputs": [
    {
     "name": "stdout",
     "output_type": "stream",
     "text": [
      "Size of original dataset: 28155\n",
      "Size of augmented dataset: 225240\n",
      "Sanity check x8: Passed\n"
     ]
    }
   ],
   "source": [
    "# Load input data csv\n",
    "import numpy as np\n",
    "fpath = \"/home/eolus/Desktop/Dauphine/metaheuristique/domineering.csv\"\n",
    "\n",
    "data = load_data(fpath)\n",
    "print('Size of original dataset:', len(data))\n",
    "\n",
    "board, board_flipped, player_plane, target_move = decode_input(data)\n",
    "\n",
    "dataset_augmented_list = []\n",
    "for row in zip(board, board_flipped, player_plane, target_move):\n",
    "    \n",
    "    # Values board, board_flipped, player_plane, target_move\n",
    "    b   = row[0]\n",
    "    b_f = row[1]\n",
    "    p_p = row[2]\n",
    "    t_m = row[3]\n",
    "    \n",
    "    # Symmetrics\n",
    "    board_syms = symmetrics(b)\n",
    "    board_flipped_syms = symmetrics(b_f)\n",
    "    player_plane_syms = [p_p for _ in range(4)]\n",
    "    target_move_syms = get_move_plane_short(symmetrics(get_move_plane_full(t_m, p_p)))\n",
    "    \n",
    "    syms = list(zip(board_syms, board_flipped_syms, player_plane_syms, target_move_syms))\n",
    "    dataset_augmented_list.extend(syms)\n",
    "    \n",
    "    # Symmetrics rotated (for other player)\n",
    "    board_rot_syms = rotate_symmetrics(b)\n",
    "    board_flipped_rot_syms = rotate_symmetrics(b_f)\n",
    "    player_plane_rot_syms = [flip_board(p_p) for _ in range(4)]\n",
    "    target_move_rot_syms = get_move_plane_short(rotate_symmetrics(get_move_plane_full(t_m, p_p)))\n",
    "    \n",
    "    rotate_syms = list(zip(board_rot_syms, board_flipped_rot_syms, player_plane_rot_syms, target_move_rot_syms))\n",
    "    dataset_augmented_list.extend(rotate_syms)\n",
    "\n",
    "print(\"Size of augmented dataset:\", len(dataset_augmented_list))\n",
    "print(\"Sanity check x8:\", \"Passed\" if len(data) * 8 == len(dataset_augmented_list) else \"Failed\")"
   ]
  },
  {
   "cell_type": "markdown",
   "metadata": {},
   "source": [
    "*NB : How to treat duplicates X ?*"
   ]
  },
  {
   "cell_type": "markdown",
   "metadata": {},
   "source": [
    "### Deep learning magic"
   ]
  },
  {
   "cell_type": "code",
   "execution_count": 17,
   "metadata": {
    "collapsed": false
   },
   "outputs": [],
   "source": [
    "from keras import backend as K\n",
    "K.set_image_data_format('channels_first')"
   ]
  },
  {
   "cell_type": "code",
   "execution_count": 23,
   "metadata": {
    "collapsed": false
   },
   "outputs": [],
   "source": [
    "from keras.models import Sequential\n",
    "from keras.layers import Dense\n",
    "\n",
    "model = Sequential()\n",
    "\n",
    "model.add(Dense(12, input_dim=192, activation='relu'))\n",
    "model.add(Dense(8, activation='relu'))\n",
    "model.add(Dense(64, activation='sigmoid'))\n",
    "\n",
    "model.compile(loss='categorical_crossentropy',\n",
    "              optimizer='sgd',\n",
    "              metrics=['accuracy'])\n",
    "\n",
    "model.fit(X_train, y_train, epochs=5, batch_size=32)\n",
    "\n",
    "loss_and_metrics = model.evaluate(X_test, y_test, batch_size=128)\n",
    "loss_and_metrics"
   ]
  }
 ],
 "metadata": {
  "kernelspec": {
   "display_name": "Python 3",
   "language": "python",
   "name": "python3"
  },
  "language_info": {
   "codemirror_mode": {
    "name": "ipython",
    "version": 3
   },
   "file_extension": ".py",
   "mimetype": "text/x-python",
   "name": "python",
   "nbconvert_exporter": "python",
   "pygments_lexer": "ipython3",
   "version": "3.6.3"
  }
 },
 "nbformat": 4,
 "nbformat_minor": 2
}
